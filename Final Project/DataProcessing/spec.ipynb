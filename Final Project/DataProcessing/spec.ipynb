{
 "cells": [
  {
   "cell_type": "code",
   "execution_count": 1,
   "metadata": {},
   "outputs": [],
   "source": [
    "import librosa\n",
    "import numpy as np\n",
    "from PIL import Image\n",
    "import os"
   ]
  },
  {
   "cell_type": "code",
   "execution_count": 2,
   "metadata": {},
   "outputs": [],
   "source": [
    "n_fft = 1024\n",
    "hop_length = 512\n",
    "n_mels = 64"
   ]
  },
  {
   "cell_type": "code",
   "execution_count": 3,
   "metadata": {},
   "outputs": [],
   "source": [
    "def scale_minmax(X, min=0.0, max=1.0):\n",
    "    X_std = (X - X.min()) / (X.max() - X.min())\n",
    "    X_scaled = X_std * (max - min) + min\n",
    "    return X_scaled"
   ]
  },
  {
   "cell_type": "code",
   "execution_count": 8,
   "metadata": {},
   "outputs": [],
   "source": [
    "path = r\"C:\\Users\\Maxx\\Desktop\\Audio\\Persian\\\\\"\n",
    "savepath = r\"C:\\Users\\Maxx\\Desktop\\Spectrogram\\Persian\\\\\"\n",
    "for filename in os.listdir(path):\n",
    "    y, sr = librosa.load(path+filename)\n",
    "    y = y[0:int(2.5*sr)]\n",
    "    spectrogram = librosa.feature.melspectrogram(y=y, sr=sr, n_mels=n_mels,n_fft=n_fft, hop_length=hop_length)\n",
    "    spectrogram = np.log(spectrogram + 1e-9)\n",
    "    img = scale_minmax(spectrogram, 0, 255).astype(np.uint8)\n",
    "    img = np.flip(img, axis=0)\n",
    "    im = Image.fromarray(img).convert(\"RGB\")\n",
    "    im.save(savepath+filename[0:-3]+\"png\")"
   ]
  }
 ],
 "metadata": {
  "kernelspec": {
   "display_name": "Python 3",
   "language": "python",
   "name": "python3"
  },
  "language_info": {
   "codemirror_mode": {
    "name": "ipython",
    "version": 3
   },
   "file_extension": ".py",
   "mimetype": "text/x-python",
   "name": "python",
   "nbconvert_exporter": "python",
   "pygments_lexer": "ipython3",
   "version": "3.8.3"
  }
 },
 "nbformat": 4,
 "nbformat_minor": 4
}
