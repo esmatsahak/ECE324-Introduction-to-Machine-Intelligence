{
 "cells": [
  {
   "cell_type": "code",
   "execution_count": 1,
   "metadata": {},
   "outputs": [],
   "source": [
    "import numpy as np\n",
    "import matplotlib.pyplot as plt\n",
    "import torch\n",
    "import torchvision\n",
    "import torchvision.transforms as transforms\n",
    "import glob\n",
    "from sklearn.preprocessing import LabelEncoder, OneHotEncoder\n",
    "from sklearn.model_selection import train_test_split\n",
    "import torch.nn as nn\n",
    "import torch.nn.functional as F\n",
    "from time import time\n",
    "from torchsummary import summary\n",
    "import math\n",
    "import copy"
   ]
  },
  {
   "cell_type": "code",
   "execution_count": 2,
   "metadata": {},
   "outputs": [],
   "source": [
    "test_size1 = 0.4\n",
    "test_size2 = 0.5\n",
    "batch_size = 20\n",
    "seed = 0\n",
    "lr = 0.001\n",
    "numepoch = 30\n",
    "first_layer_neurons = 5000\n",
    "second_layer_neurons = 750\n",
    "torch.manual_seed(seed)\n",
    "optimizer = torch.optim.Adam\n",
    "loss_function = nn.MSELoss()"
   ]
  },
  {
   "cell_type": "code",
   "execution_count": 3,
   "metadata": {},
   "outputs": [],
   "source": [
    "classes = ('English', 'Mandarin', 'Persian')\n",
    "\n",
    "# Get dataset\n",
    "train_data = torchvision.datasets.ImageFolder(root=\"./train/\", transform=transforms.ToTensor())\n",
    "valid_data = torchvision.datasets.ImageFolder(root=\"./valid/\", transform=transforms.ToTensor())\n",
    "test_data = torchvision.datasets.ImageFolder(root=\"./test/\", transform=transforms.ToTensor())"
   ]
  },
  {
   "cell_type": "code",
   "execution_count": 4,
   "metadata": {},
   "outputs": [],
   "source": [
    "class Net(nn.Module):\n",
    "    \n",
    "    def __init__(self):\n",
    "        super(Net, self).__init__()\n",
    "        self.fc1 = nn.Linear(3*64*108, first_layer_neurons)\n",
    "        self.fc2 = nn.Linear(first_layer_neurons, second_layer_neurons)\n",
    "        self.fc3 = nn.Linear(second_layer_neurons, 3)\n",
    "        self.fc1_BN = nn.BatchNorm1d(first_layer_neurons)\n",
    "        self.fc2_BN = nn.BatchNorm1d(second_layer_neurons)\n",
    "        \n",
    "    def forward(self, x):\n",
    "        x = x.view(-1,3*64*108)\n",
    "        x = F.relu(self.fc1_BN(self.fc1(x)))\n",
    "        x = F.relu(self.fc2_BN(self.fc2(x)))\n",
    "        x = self.fc3(x)\n",
    "        return x\n",
    "\n",
    "#one hot encoding for label vector, used for MSELoss\n",
    "def onehot(labels):\n",
    "    one_hot_labels = np.zeros((len(labels),3))\n",
    "    for i in range(len(labels)):\n",
    "        one_hot_labels[i][labels[i]] = 1\n",
    "    return torch.from_numpy(one_hot_labels)\n",
    "\n",
    "#compute accuracy of the given model on data in loader\n",
    "def accuracy(model, loader):\n",
    "    correct = 0\n",
    "    total = 0\n",
    "    with torch.no_grad():\n",
    "        for data in loader:\n",
    "            images, labels = data\n",
    "            outputs = model(images)\n",
    "            _, predicted = torch.max(outputs.data, 1)\n",
    "            total += labels.size(0)\n",
    "            correct += (predicted == labels).sum().item()\n",
    "    return correct/total"
   ]
  },
  {
   "cell_type": "code",
   "execution_count": 5,
   "metadata": {},
   "outputs": [],
   "source": [
    "train_loader = torch.utils.data.DataLoader(train_data, batch_size=batch_size, shuffle=True)\n",
    "valid_loader = torch.utils.data.DataLoader(valid_data, batch_size=batch_size)\n",
    "test_loader = torch.utils.data.DataLoader(test_data, batch_size=batch_size)\n",
    "net = Net()\n",
    "optimizer = optimizer(net.parameters(),lr)"
   ]
  },
  {
   "cell_type": "code",
   "execution_count": 6,
   "metadata": {},
   "outputs": [
    {
     "name": "stderr",
     "output_type": "stream",
     "text": [
      "C:\\Users\\Maxx\\anaconda3\\envs\\ece324\\lib\\site-packages\\torch\\autograd\\__init__.py:130: UserWarning: CUDA initialization: Found no NVIDIA driver on your system. Please check that you have an NVIDIA GPU and installed a driver from http://www.nvidia.com/Download/index.aspx (Triggered internally at  ..\\c10\\cuda\\CUDAFunctions.cpp:100.)\n",
      "  Variable._execution_engine.run_backward(\n"
     ]
    },
    {
     "name": "stdout",
     "output_type": "stream",
     "text": [
      "Epoch: 1 Training Accuracy: 0.6566666666666666 Validation Accuracy: 0.6533333333333333\n",
      "Epoch: 2 Training Accuracy: 0.7311111111111112 Validation Accuracy: 0.66\n",
      "Epoch: 3 Training Accuracy: 0.8188888888888889 Validation Accuracy: 0.7733333333333333\n",
      "Epoch: 4 Training Accuracy: 0.8133333333333334 Validation Accuracy: 0.79\n",
      "Epoch: 5 Training Accuracy: 0.8822222222222222 Validation Accuracy: 0.81\n",
      "Epoch: 6 Training Accuracy: 0.8822222222222222 Validation Accuracy: 0.8\n",
      "Epoch: 7 Training Accuracy: 0.9411111111111111 Validation Accuracy: 0.81\n",
      "Epoch: 8 Training Accuracy: 0.9344444444444444 Validation Accuracy: 0.8433333333333334\n",
      "Epoch: 9 Training Accuracy: 0.9733333333333334 Validation Accuracy: 0.86\n",
      "Epoch: 10 Training Accuracy: 0.9655555555555555 Validation Accuracy: 0.8533333333333334\n",
      "Epoch: 11 Training Accuracy: 0.9933333333333333 Validation Accuracy: 0.8866666666666667\n",
      "Epoch: 12 Training Accuracy: 0.95 Validation Accuracy: 0.86\n",
      "Epoch: 13 Training Accuracy: 0.9711111111111111 Validation Accuracy: 0.7833333333333333\n",
      "Epoch: 14 Training Accuracy: 0.99 Validation Accuracy: 0.8833333333333333\n",
      "Epoch: 15 Training Accuracy: 0.99 Validation Accuracy: 0.88\n",
      "Epoch: 16 Training Accuracy: 0.9844444444444445 Validation Accuracy: 0.8566666666666667\n",
      "Epoch: 17 Training Accuracy: 0.9955555555555555 Validation Accuracy: 0.89\n",
      "Epoch: 18 Training Accuracy: 0.9888888888888889 Validation Accuracy: 0.8733333333333333\n",
      "Epoch: 19 Training Accuracy: 0.9966666666666667 Validation Accuracy: 0.8866666666666667\n",
      "Epoch: 20 Training Accuracy: 0.9944444444444445 Validation Accuracy: 0.88\n",
      "Epoch: 21 Training Accuracy: 0.9944444444444445 Validation Accuracy: 0.88\n",
      "Epoch: 22 Training Accuracy: 0.9966666666666667 Validation Accuracy: 0.84\n",
      "Epoch: 23 Training Accuracy: 0.9977777777777778 Validation Accuracy: 0.9033333333333333\n",
      "Epoch: 24 Training Accuracy: 0.9977777777777778 Validation Accuracy: 0.8933333333333333\n",
      "Epoch: 25 Training Accuracy: 0.9955555555555555 Validation Accuracy: 0.87\n",
      "Epoch: 26 Training Accuracy: 1.0 Validation Accuracy: 0.8666666666666667\n",
      "Epoch: 27 Training Accuracy: 0.9977777777777778 Validation Accuracy: 0.8833333333333333\n",
      "Epoch: 28 Training Accuracy: 1.0 Validation Accuracy: 0.8833333333333333\n",
      "Epoch: 29 Training Accuracy: 0.9988888888888889 Validation Accuracy: 0.8666666666666667\n",
      "Epoch: 30 Training Accuracy: 0.9977777777777778 Validation Accuracy: 0.88\n",
      "Training Time: 1274.4359591007233\n"
     ]
    }
   ],
   "source": [
    "trainLossRec = []\n",
    "validLossRec = []\n",
    "testLossRec = []\n",
    "trainAccRec = []\n",
    "validAccRec = []\n",
    "testAccRec = []\n",
    "nRec = []\n",
    "startTime = time()\n",
    "best_accuV = 0\n",
    "\n",
    "for epoch in range(numepoch):\n",
    "    running_loss = 0.0\n",
    "    numbatch = 0\n",
    "    net.train()\n",
    "    for i, train_data in enumerate(train_loader, 0):\n",
    "        inputs, labels = train_data\n",
    "        optimizer.zero_grad()\n",
    "        predictT = net(inputs.float())\n",
    "        lossT= loss_function(input=predictT.squeeze(), target=onehot(labels).float())\n",
    "        lossT.backward()\n",
    "        optimizer.step()\n",
    "        running_loss += lossT.item()\n",
    "        numbatch += 1\n",
    "    trainLossRec.append(running_loss/numbatch)\n",
    "    accuT = accuracy(net,train_loader)\n",
    "    trainAccRec.append(accuT)\n",
    "    \n",
    "    running_loss = 0.0\n",
    "    numbatch = 0\n",
    "    net.eval()\n",
    "    for i, valid_data in enumerate(valid_loader):\n",
    "        inputs, labels = valid_data\n",
    "        predictV = net(inputs.float())\n",
    "        lossV = loss_function(input=predictV.squeeze(), target=onehot(labels).float())\n",
    "        running_loss += lossV.item()\n",
    "        numbatch += 1\n",
    "    validLossRec.append(running_loss/numbatch)\n",
    "    accuV = accuracy(net,valid_loader)\n",
    "    validAccRec.append(accuV)\n",
    "    \n",
    "    if (accuV > best_accuV):\n",
    "        best_accuV = accuV\n",
    "        best_baseline_wts = copy.deepcopy(net.state_dict())\n",
    "        best_epochs = epoch+1\n",
    "    \n",
    "    nRec.append(epoch)\n",
    "    print(\"Epoch:\",nRec[-1]+1,\"Training Accuracy:\",accuT,\"Validation Accuracy:\",accuV)\n",
    "                              \n",
    "timeElapsed = time()-startTime\n",
    "\n",
    "print('Training Time:',timeElapsed)"
   ]
  },
  {
   "cell_type": "code",
   "execution_count": 7,
   "metadata": {},
   "outputs": [
    {
     "data": {
      "image/png": "[encoded data removed]",
      "text/plain": [
       "<Figure size 432x288 with 1 Axes>"
      ]
     },
     "metadata": {
      "needs_background": "light"
     },
     "output_type": "display_data"
    },
    {
     "data": {
      "image/png": "[encoded data removed]",
      "text/plain": [
       "<Figure size 432x288 with 1 Axes>"
      ]
     },
     "metadata": {
      "needs_background": "light"
     },
     "output_type": "display_data"
    }
   ],
   "source": [
    "# PLOT\n",
    "plt.plot(nRec,trainLossRec, label='Train')\n",
    "plt.plot(nRec,validLossRec, label='Validation')\n",
    "plt.title(\"Loss vs. Epoch\")\n",
    "plt.xlabel(\"Epoch\")\n",
    "plt.ylabel(\"Loss\")\n",
    "plt.legend()\n",
    "plt.show()\n",
    "\n",
    "plt.plot(nRec,trainAccRec, label='Train')\n",
    "plt.plot(nRec,validAccRec, label='Validation')\n",
    "plt.title(\"Accuracy vs. Epoch\")\n",
    "plt.xlabel(\"Epoch\")\n",
    "plt.ylabel(\"Accuracy\")\n",
    "plt.legend()\n",
    "plt.show()"
   ]
  },
  {
   "cell_type": "code",
   "execution_count": 8,
   "metadata": {},
   "outputs": [
    {
     "name": "stdout",
     "output_type": "stream",
     "text": [
      "Best Baseline Model\n",
      "Training Accuracy:  1.0\n",
      "Validation Accuracy:  0.9033333333333333\n",
      "Test Accuracy:  0.8433333333333334\n",
      "Epochs:  23\n"
     ]
    }
   ],
   "source": [
    "print(\"Best Baseline Model\")\n",
    "net.load_state_dict(best_baseline_wts)\n",
    "print(\"Training Accuracy: \", accuracy(net, train_loader))\n",
    "print(\"Validation Accuracy: \", accuracy(net, valid_loader))\n",
    "print(\"Test Accuracy: \", accuracy(net, test_loader))\n",
    "print(\"Epochs: \", best_epochs)"
   ]
  },
  {
   "cell_type": "code",
   "execution_count": 9,
   "metadata": {},
   "outputs": [
    {
     "name": "stdout",
     "output_type": "stream",
     "text": [
      "----------------------------------------------------------------\n",
      "        Layer (type)               Output Shape         Param #\n",
      "================================================================\n",
      "            Linear-1                 [-1, 5000]     103,685,000\n",
      "       BatchNorm1d-2                 [-1, 5000]          10,000\n",
      "            Linear-3                  [-1, 750]       3,750,750\n",
      "       BatchNorm1d-4                  [-1, 750]           1,500\n",
      "            Linear-5                    [-1, 3]           2,253\n",
      "================================================================\n",
      "Total params: 107,449,503\n",
      "Trainable params: 107,449,503\n",
      "Non-trainable params: 0\n",
      "----------------------------------------------------------------\n",
      "Input size (MB): 0.08\n",
      "Forward/backward pass size (MB): 0.09\n",
      "Params size (MB): 409.89\n",
      "Estimated Total Size (MB): 410.05\n",
      "----------------------------------------------------------------\n"
     ]
    }
   ],
   "source": [
    "summary(net, input_size = (3,64,108))"
   ]
  },
  {
   "cell_type": "code",
   "execution_count": null,
   "metadata": {},
   "outputs": [],
   "source": []
  }
 ],
 "metadata": {
  "kernelspec": {
   "display_name": "Python 3",
   "language": "python",
   "name": "python3"
  },
  "language_info": {
   "codemirror_mode": {
    "name": "ipython",
    "version": 3
   },
   "file_extension": ".py",
   "mimetype": "text/x-python",
   "name": "python",
   "nbconvert_exporter": "python",
   "pygments_lexer": "ipython3",
   "version": "3.8.3"
  }
 },
 "nbformat": 4,
 "nbformat_minor": 4
}
