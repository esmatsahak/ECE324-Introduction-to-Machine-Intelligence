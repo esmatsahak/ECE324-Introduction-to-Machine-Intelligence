{
 "cells": [
  {
   "cell_type": "code",
   "execution_count": 1,
   "metadata": {},
   "outputs": [],
   "source": [
    "import numpy as np"
   ]
  },
  {
   "cell_type": "code",
   "execution_count": 2,
   "metadata": {},
   "outputs": [],
   "source": [
    "matrix = np.loadtxt(\"matrix.csv\", delimiter=\",\")\n",
    "vector = np.load(\"vector.npy\")\n",
    "row_M = matrix.shape[0]\n",
    "col_M = matrix.shape[1]\n",
    "col_V = vector.shape[1]\n",
    "output = np.zeros((row_M, col_V))\n",
    "for r in range(row_M):\n",
    "    for c in range(col_V):\n",
    "        for i in range(col_M):\n",
    "            output[r,c] += matrix[r,i] * vector[i,c]\n",
    "np.savetxt(\"output_forloop.csv\", output, delimiter=\",\")\n",
    "output_2 = matrix.dot(vector)\n",
    "np.save(\"output_dot.npy\", output_2)\n",
    "difference = output - output_2\n",
    "np.savetxt(\"output_difference.csv\", difference, delimiter=\",\")"
   ]
  }
 ],
 "metadata": {
  "kernelspec": {
   "display_name": "Python 3",
   "language": "python",
   "name": "python3"
  },
  "language_info": {
   "codemirror_mode": {
    "name": "ipython",
    "version": 3
   },
   "file_extension": ".py",
   "mimetype": "text/x-python",
   "name": "python",
   "nbconvert_exporter": "python",
   "pygments_lexer": "ipython3",
   "version": "3.8.3"
  }
 },
 "nbformat": 4,
 "nbformat_minor": 4
}
