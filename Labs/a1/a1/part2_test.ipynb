{
 "cells": [
  {
   "cell_type": "code",
   "execution_count": 1,
   "metadata": {},
   "outputs": [],
   "source": [
    "# Copy your code for Part 2 into the cell below \n",
    "# Then 'run' it and the code below to test your code.\n",
    "\n",
    "import numpy as np"
   ]
  },
  {
   "cell_type": "code",
   "execution_count": 2,
   "metadata": {},
   "outputs": [],
   "source": [
    "class ElementwiseMultiply(object):\n",
    "    def __init__(self, weight):\n",
    "        self.weight = weight\n",
    "    \n",
    "    def __call__(self, input):\n",
    "        return self.weight * input"
   ]
  },
  {
   "cell_type": "code",
   "execution_count": 3,
   "metadata": {},
   "outputs": [],
   "source": [
    "class AddBias(object):\n",
    "    def __init__(self, bias):\n",
    "        self.bias = bias\n",
    "    \n",
    "    def __call__(self, input):\n",
    "        return self.bias + input"
   ]
  },
  {
   "cell_type": "code",
   "execution_count": 4,
   "metadata": {},
   "outputs": [],
   "source": [
    "class LeakyRelu(object):\n",
    "    def __init__(self, alpha):\n",
    "        self.alpha = alpha\n",
    "    \n",
    "    def __call__(self, input):\n",
    "        if isinstance(input, np.ndarray):\n",
    "            return np.where(input < 0, self.alpha * input, input)\n",
    "        if input < 0:\n",
    "            return self.alpha * input\n",
    "        return input"
   ]
  },
  {
   "cell_type": "code",
   "execution_count": 5,
   "metadata": {},
   "outputs": [],
   "source": [
    "class Compose(object):\n",
    "    def __init__(self, layers):\n",
    "        self.layers = layers\n",
    "    \n",
    "    def __call__(self, input):\n",
    "        output = input\n",
    "        for func in self.layers:\n",
    "            output = func(output)\n",
    "        return output"
   ]
  },
  {
   "cell_type": "code",
   "execution_count": 6,
   "metadata": {},
   "outputs": [
    {
     "name": "stdout",
     "output_type": "stream",
     "text": [
      "Input:  [ 10   5  -5 -10]\n",
      "Output: [-1.5 -2.8  1.6 12.8]\n"
     ]
    }
   ],
   "source": [
    "\n",
    "weight_1 = np.array([1, 2, 3, 4])\n",
    "weight_2 = np.array([-1, -2, -3, -4])\n",
    "bias_1 = 3\n",
    "bias_2 = -2\n",
    "alpha = 0.1\n",
    "input = np.array([10, 5, -5, -10])\n",
    "print(\"Input: \", input)\n",
    "\n",
    "elem_mult_1 = ElementwiseMultiply(weight_1)\n",
    "add_bias_1 = AddBias(bias_1)\n",
    "leaky_relu = LeakyRelu(alpha)\n",
    "elem_mult_2 = ElementwiseMultiply(weight_2)\n",
    "add_bias_2 = AddBias(bias_2)\n",
    "layers = Compose([elem_mult_1, add_bias_1, leaky_relu, elem_mult_2, add_bias_2, leaky_relu])\n",
    "output = layers(input)\n",
    "\n",
    "print(\"Output:\", output)\n"
   ]
  }
 ],
 "metadata": {
  "kernelspec": {
   "display_name": "Python 3",
   "language": "python",
   "name": "python3"
  },
  "language_info": {
   "codemirror_mode": {
    "name": "ipython",
    "version": 3
   },
   "file_extension": ".py",
   "mimetype": "text/x-python",
   "name": "python",
   "nbconvert_exporter": "python",
   "pygments_lexer": "ipython3",
   "version": "3.8.3"
  }
 },
 "nbformat": 4,
 "nbformat_minor": 4
}
