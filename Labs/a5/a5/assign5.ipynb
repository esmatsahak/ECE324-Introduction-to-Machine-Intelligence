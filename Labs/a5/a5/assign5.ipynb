{
 "cells": [
  {
   "cell_type": "code",
   "execution_count": 1,
   "metadata": {},
   "outputs": [],
   "source": [
    "import numpy as np\n",
    "import pandas as pd\n",
    "import torch\n",
    "import torch.optim as optim\n",
    "import torch.nn as nn\n",
    "import torch.nn.functional as F\n",
    "import torchtext\n",
    "from torchtext import data\n",
    "import spacy\n",
    "import matplotlib.pyplot as plt\n",
    "import torch.nn.utils.rnn as tnt\n",
    "import readline"
   ]
  },
  {
   "cell_type": "code",
   "execution_count": 2,
   "metadata": {},
   "outputs": [],
   "source": [
    "seed = 0\n",
    "torch.manual_seed(seed)\n",
    "train_s = 0.64\n",
    "val_s = 0.16\n",
    "test_s = 0.2\n",
    "OF_len = 50\n",
    "batch_size = 64\n",
    "lr = 0.001\n",
    "epochs = 25\n",
    "num_filt = 50\n",
    "k = [2,4]\n",
    "net = \"CNN\" # Can be \"RNN\" or \"baseline\"\n",
    "OF = False # Trains on overfit data instead of train data if True"
   ]
  },
  {
   "cell_type": "code",
   "execution_count": 3,
   "metadata": {
    "scrolled": true
   },
   "outputs": [
    {
     "name": "stdout",
     "output_type": "stream",
     "text": [
      "Training Set\n",
      "1    3200\n",
      "0    3200\n",
      "Validation Set\n",
      "1    800\n",
      "0    800\n",
      "Test Set\n",
      "1    1000\n",
      "0    1000\n",
      "Overfit Set\n",
      "1    25\n",
      "0    25\n"
     ]
    }
   ],
   "source": [
    "dt = pd.read_csv(\"./data/data.tsv\", sep='\\t') # Load data\n",
    "# Separate objective and subjective data \n",
    "obj = dt[dt['label']==0]\n",
    "sub = dt[dt['label']==1]\n",
    "# Length of each train, test, and validation set\n",
    "objTrain_len = int(train_s * len(obj))\n",
    "objVal_len = int(val_s * len(obj))\n",
    "objTest_len = int(test_s * len(obj))\n",
    "subTrain_len = int(train_s * len(sub))\n",
    "subVal_len = int(val_s * len(sub))\n",
    "subTest_len = int(test_s * len(sub))\n",
    "# Split objective and subjective sets\n",
    "objTrain = obj[:objTrain_len]\n",
    "objVal = obj[objTrain_len:objTrain_len+objVal_len]\n",
    "objTest = obj[objTrain_len+objVal_len:objTrain_len+objVal_len+objTest_len]\n",
    "objOF = obj[:int(OF_len/2)]\n",
    "subTrain = sub[:subTrain_len]\n",
    "subVal = sub[subTrain_len:objTrain_len+objVal_len]\n",
    "subTest = sub[subTrain_len+subVal_len:subTrain_len+subVal_len+subTest_len]\n",
    "subOF = sub[:int(OF_len/2)]\n",
    "# Append corresponding objective and subjective sets\n",
    "train_set = pd.concat([objTrain,subTrain],ignore_index=True)\n",
    "val_set = pd.concat([objVal,subVal],ignore_index=True)\n",
    "test_set = pd.concat([objTest,subTest],ignore_index=True)\n",
    "OF_set = pd.concat([objOF,subOF],ignore_index=True)\n",
    "# Save train, validation, test sets as TSV files\n",
    "train_set.to_csv(\"./data/train.tsv\",index=False,sep='\\t')\n",
    "val_set.to_csv(\"./data/validation.tsv\",index=False,sep='\\t')\n",
    "test_set.to_csv(\"./data/test.tsv\",index=False,sep='\\t')\n",
    "OF_set.to_csv(\"./data/overfit.tsv\",index=False,sep='\\t')\n",
    "# Print counts per class per set\n",
    "print(\"Training Set\")\n",
    "print(train_set['label'].value_counts().to_string())\n",
    "print(\"Validation Set\")\n",
    "print(val_set['label'].value_counts().to_string())\n",
    "print(\"Test Set\")\n",
    "print(test_set['label'].value_counts().to_string())\n",
    "print(\"Overfit Set\")\n",
    "print(OF_set['label'].value_counts().to_string())"
   ]
  },
  {
   "cell_type": "code",
   "execution_count": 4,
   "metadata": {},
   "outputs": [
    {
     "name": "stderr",
     "output_type": "stream",
     "text": [
      "C:\\Users\\esmat\\anaconda3\\envs\\ece324\\lib\\site-packages\\torchtext\\data\\field.py:150: UserWarning: Field class will be retired in the 0.8.0 release and moved to torchtext.legacy. Please see 0.7.0 release notes for further information.\n",
      "  warnings.warn('{} class will be retired in the 0.8.0 release and moved to torchtext.legacy. Please see 0.7.0 release notes for further information.'.format(self.__class__.__name__), UserWarning)\n",
      "C:\\Users\\esmat\\anaconda3\\envs\\ece324\\lib\\site-packages\\torchtext\\data\\example.py:68: UserWarning: Example class will be retired in the 0.8.0 release and moved to torchtext.legacy. Please see 0.7.0 release notes for further information.\n",
      "  warnings.warn('Example class will be retired in the 0.8.0 release and moved to torchtext.legacy. Please see 0.7.0 release notes for further information.', UserWarning)\n",
      "C:\\Users\\esmat\\anaconda3\\envs\\ece324\\lib\\site-packages\\torchtext\\data\\example.py:78: UserWarning: Example class will be retired in the 0.8.0 release and moved to torchtext.legacy. Please see 0.7.0 release notes for further information.\n",
      "  warnings.warn('Example class will be retired in the 0.8.0 release and moved to torchtext.legacy. Please see 0.7.0 release notes for further information.', UserWarning)\n",
      "C:\\Users\\esmat\\anaconda3\\envs\\ece324\\lib\\site-packages\\torchtext\\data\\iterator.py:48: UserWarning: BucketIterator class will be retired in the 0.8.0 release and moved to torchtext.legacy. Please see 0.7.0 release notes for further information.\n",
      "  warnings.warn('{} class will be retired in the 0.8.0 release and moved to torchtext.legacy. Please see 0.7.0 release notes for further information.'.format(self.__class__.__name__), UserWarning)\n"
     ]
    },
    {
     "name": "stdout",
     "output_type": "stream",
     "text": [
      "Shape of Vocab: torch.Size([21105, 100])\n"
     ]
    }
   ],
   "source": [
    "# Tells torchtext how each column in the TSV file will be processed when passed into the data.TabularDataset object\n",
    "TEXT = data.Field(sequential=True,lower=True, tokenize='spacy', include_lengths=True)\n",
    "LABELS = data.Field(sequential=False, use_vocab=False)\n",
    "# Load the train, validation, and test datasets to become datasets \n",
    "train_data, val_data, test_data = data.TabularDataset.splits(\n",
    "    path='data/', train='train.tsv', validation='validation.tsv', test='test.tsv', format='tsv', skip_header=True, fields=[('text', TEXT), ('label', LABELS)])\n",
    "# Create an object that can be enumerated to be used in the training loops - these are the objects that produce each batch in the training loop.\n",
    "train_iter, val_iter, test_iter = data.BucketIterator.splits(\n",
    "    (train_data, val_data, test_data), batch_sizes=(batch_size, batch_size, batch_size), sort_key=lambda x: len(x.text), device=None, sort_within_batch=True, repeat=False)\n",
    "# Vocab object will contain the index (word token) for each unique word in the data set\n",
    "TEXT.build_vocab(train_data, val_data, test_data)\n",
    "# Download and load the vectors that are downloaded into the vocab object\n",
    "TEXT.vocab.load_vectors(torchtext.vocab.GloVe(name='6B', dim=100))\n",
    "vocab = TEXT.vocab\n",
    "print(\"Shape of Vocab:\",TEXT.vocab.vectors.shape)"
   ]
  },
  {
   "cell_type": "code",
   "execution_count": 5,
   "metadata": {},
   "outputs": [],
   "source": [
    "overfit_data = data.TabularDataset(\n",
    "    path='data/overfit.tsv', format='tsv', skip_header=True, fields=[('text', TEXT), ('label', LABELS)])\n",
    "overfit_iter = data.BucketIterator(\n",
    "    overfit_data, len(overfit_data), sort_key=lambda x: len(x.text), device=None, sort_within_batch=True, repeat=False)"
   ]
  },
  {
   "cell_type": "code",
   "execution_count": 6,
   "metadata": {},
   "outputs": [],
   "source": [
    "class Baseline(nn.Module):\n",
    "    def __init__(self, vocab, embedding_dim=100):\n",
    "        super(Baseline, self).__init__()\n",
    "        self.embedding = nn.Embedding.from_pretrained(vocab.vectors)\n",
    "        self.fc = nn.Linear(embedding_dim, 1)\n",
    "    def forward(self, x, lengths=None):\n",
    "        # x = [sentence, length, batch size]\n",
    "        embedded = self.embedding(x)\n",
    "        average = embedded.mean(0) # [sentence length, batch size, embedding_dim]\n",
    "        output = self.fc(average).squeeze(1)\n",
    "        # Using the BCEWithLogitsLoss loss function performs the sigmoid function *as well* as well as the binary cross entropy loss computation (these are combined for numerical stability)\n",
    "        return torch.sigmoid(output)"
   ]
  },
  {
   "cell_type": "code",
   "execution_count": 7,
   "metadata": {},
   "outputs": [],
   "source": [
    "class CNN(nn.Module):\n",
    "    def __init__(self, vocab, n_filters, filter_sizes, embedding_dim=100):\n",
    "        super(CNN, self).__init__()\n",
    "        self.embedding = nn.Embedding.from_pretrained(vocab.vectors)\n",
    "        self.conv1 = nn.Conv2d(1,n_filters,kernel_size=(filter_sizes[0],embedding_dim))\n",
    "        self.conv2 = nn.Conv2d(1,n_filters,kernel_size=(filter_sizes[1],embedding_dim))\n",
    "        self.fc = nn.Linear(embedding_dim,1)\n",
    "    def forward(self, x, lengths=None):\n",
    "        embedded = self.embedding(x)\n",
    "        # NCHW formatting\n",
    "        embedded = embedded.permute(1,0,2)\n",
    "        embedded = embedded.unsqueeze(1)\n",
    "        x_1 = F.relu(self.conv1(embedded))\n",
    "        x_2 = F.relu(self.conv2(embedded))\n",
    "        self.pool_1 = nn.MaxPool2d(kernel_size=(x_1.shape[2],1))\n",
    "        self.pool_2 = nn.MaxPool2d(kernel_size=(x_2.shape[2],1))\n",
    "        x_1 = self.pool_1(x_1)\n",
    "        x_2 = self.pool_2(x_2)\n",
    "        x = torch.cat((x_1,x_2),1).squeeze(2).squeeze(2)\n",
    "        x = self.fc(x)\n",
    "        return torch.sigmoid(x)"
   ]
  },
  {
   "cell_type": "code",
   "execution_count": 8,
   "metadata": {},
   "outputs": [],
   "source": [
    "class RNN(nn.Module):\n",
    "    def __init__(self,vocab, hidden_dim=100, embedding_dim=100):\n",
    "        super(RNN, self).__init__()\n",
    "        self.embedding = nn.Embedding.from_pretrained(vocab.vectors)\n",
    "        self.net = nn.GRU(embedding_dim, hidden_dim)\n",
    "        self.fc = nn.Linear(hidden_dim, 1)\n",
    "    def forward(self, x, lengths=None):\n",
    "        x = self.embedding(x)\n",
    "        x = tnt.pack_padded_sequence(x,lengths)\n",
    "        y, x = self.net(x)\n",
    "        x = self.fc(x)\n",
    "        return torch.sigmoid(x)"
   ]
  },
  {
   "cell_type": "code",
   "execution_count": 9,
   "metadata": {},
   "outputs": [],
   "source": [
    "def accuracy(model, iterator):\n",
    "    total_corr = 0\n",
    "    for batch in iterator:\n",
    "        batch_inputs, batch_input_lengths = batch.text\n",
    "        batch_labels = batch.label\n",
    "        index = 0\n",
    "        predictions = model(batch_inputs, batch_input_lengths)\n",
    "        for c in predictions.flatten():\n",
    "            if (c.item()>0.5):\n",
    "                r=1.0\n",
    "            else:\n",
    "                r=0.0\n",
    "            if r==batch_labels[index].item():\n",
    "                total_corr += 1\n",
    "            index += 1\n",
    "    return float(total_corr)/len(iterator.dataset)"
   ]
  },
  {
   "cell_type": "code",
   "execution_count": 10,
   "metadata": {},
   "outputs": [
    {
     "name": "stderr",
     "output_type": "stream",
     "text": [
      "C:\\Users\\esmat\\anaconda3\\envs\\ece324\\lib\\site-packages\\torchtext\\data\\batch.py:23: UserWarning: Batch class will be retired in the 0.8.0 release and moved to torchtext.legacy. Please see 0.7.0 release notes for further information.\n",
      "  warnings.warn('{} class will be retired in the 0.8.0 release and moved to torchtext.legacy. Please see 0.7.0 release notes for further information.'.format(self.__class__.__name__), UserWarning)\n"
     ]
    },
    {
     "name": "stdout",
     "output_type": "stream",
     "text": [
      "Epoch: 1 Training Loss: 0.63 Training Accuracy 0.88  Validation Loss: 0.58 Validation Accuracy 0.86\n",
      "Epoch: 2 Training Loss: 0.57 Training Accuracy 0.91  Validation Loss: 0.56 Validation Accuracy 0.89\n",
      "Epoch: 3 Training Loss: 0.55 Training Accuracy 0.92  Validation Loss: 0.56 Validation Accuracy 0.89\n",
      "Epoch: 4 Training Loss: 0.55 Training Accuracy 0.94  Validation Loss: 0.56 Validation Accuracy 0.90\n",
      "Epoch: 5 Training Loss: 0.54 Training Accuracy 0.95  Validation Loss: 0.55 Validation Accuracy 0.90\n",
      "Epoch: 6 Training Loss: 0.54 Training Accuracy 0.95  Validation Loss: 0.55 Validation Accuracy 0.91\n",
      "Epoch: 7 Training Loss: 0.53 Training Accuracy 0.96  Validation Loss: 0.55 Validation Accuracy 0.90\n",
      "Epoch: 8 Training Loss: 0.53 Training Accuracy 0.96  Validation Loss: 0.55 Validation Accuracy 0.91\n",
      "Epoch: 9 Training Loss: 0.53 Training Accuracy 0.97  Validation Loss: 0.55 Validation Accuracy 0.91\n",
      "Epoch: 10 Training Loss: 0.52 Training Accuracy 0.96  Validation Loss: 0.55 Validation Accuracy 0.90\n",
      "Epoch: 11 Training Loss: 0.52 Training Accuracy 0.97  Validation Loss: 0.55 Validation Accuracy 0.91\n",
      "Epoch: 12 Training Loss: 0.52 Training Accuracy 0.97  Validation Loss: 0.55 Validation Accuracy 0.91\n",
      "Epoch: 13 Training Loss: 0.52 Training Accuracy 0.97  Validation Loss: 0.55 Validation Accuracy 0.91\n",
      "Epoch: 14 Training Loss: 0.52 Training Accuracy 0.98  Validation Loss: 0.55 Validation Accuracy 0.91\n",
      "Epoch: 15 Training Loss: 0.52 Training Accuracy 0.98  Validation Loss: 0.55 Validation Accuracy 0.91\n",
      "Epoch: 16 Training Loss: 0.52 Training Accuracy 0.98  Validation Loss: 0.55 Validation Accuracy 0.91\n",
      "Epoch: 17 Training Loss: 0.52 Training Accuracy 0.98  Validation Loss: 0.55 Validation Accuracy 0.91\n",
      "Epoch: 18 Training Loss: 0.52 Training Accuracy 0.98  Validation Loss: 0.55 Validation Accuracy 0.92\n",
      "Epoch: 19 Training Loss: 0.52 Training Accuracy 0.98  Validation Loss: 0.55 Validation Accuracy 0.92\n",
      "Epoch: 20 Training Loss: 0.52 Training Accuracy 0.98  Validation Loss: 0.55 Validation Accuracy 0.91\n",
      "Epoch: 21 Training Loss: 0.51 Training Accuracy 0.98  Validation Loss: 0.55 Validation Accuracy 0.92\n",
      "Epoch: 22 Training Loss: 0.51 Training Accuracy 0.98  Validation Loss: 0.55 Validation Accuracy 0.91\n",
      "Epoch: 23 Training Loss: 0.51 Training Accuracy 0.98  Validation Loss: 0.55 Validation Accuracy 0.91\n",
      "Epoch: 24 Training Loss: 0.51 Training Accuracy 0.98  Validation Loss: 0.55 Validation Accuracy 0.92\n",
      "Epoch: 25 Training Loss: 0.51 Training Accuracy 0.98  Validation Loss: 0.55 Validation Accuracy 0.91\n",
      "\n",
      "Test Loss: 0.55 Test Accuracy 0.92\n"
     ]
    },
    {
     "data": {
      "image/png": "[encoded data removed]",
      "text/plain": [
       "<Figure size 432x288 with 1 Axes>"
      ]
     },
     "metadata": {
      "needs_background": "light"
     },
     "output_type": "display_data"
    },
    {
     "data": {
      "image/png": "[encoded data removed]",
      "text/plain": [
       "<Figure size 432x288 with 1 Axes>"
      ]
     },
     "metadata": {
      "needs_background": "light"
     },
     "output_type": "display_data"
    }
   ],
   "source": [
    "if net==\"baseline\":\n",
    "    model = Baseline(vocab)\n",
    "elif net==\"CNN\":\n",
    "    model = CNN(vocab, num_filt, k)\n",
    "else:\n",
    "    model = RNN(vocab)\n",
    "if OF:\n",
    "    t_iter = overfit_iter\n",
    "else:\n",
    "    t_iter = train_iter\n",
    "optimizer = torch.optim.Adam(model.parameters(),lr) \n",
    "loss_fcn = nn.BCEWithLogitsLoss()\n",
    "loss_train, loss_val, acc_train, acc_val = [], [], [], []\n",
    "# Training loop\n",
    "for e in range(epochs):\n",
    "    running_loss = 0\n",
    "    batches = 0\n",
    "    for i, train_batch in enumerate(t_iter):\n",
    "        train_batch_inputs, train_batch_input_lengths = train_batch.text\n",
    "        train_batch_labels = train_batch.label\n",
    "        optimizer.zero_grad()\n",
    "        train_predict = model(train_batch_inputs, train_batch_input_lengths)\n",
    "        train_loss = loss_fcn(train_predict.squeeze(), train_batch_labels.float())\n",
    "        train_loss.backward()\n",
    "        optimizer.step()\n",
    "        running_loss += train_loss.item()\n",
    "        batches+=1\n",
    "    train_acc = accuracy(model,t_iter)\n",
    "    acc_train.append(train_acc)\n",
    "    loss_train.append(running_loss/batches)\n",
    "    running_loss = 0\n",
    "    batches = 0\n",
    "    for i, val_batch in enumerate(val_iter):\n",
    "        val_batch_inputs, val_batch_input_lengths = val_batch.text\n",
    "        val_batch_labels = val_batch.label\n",
    "        val_predict = model(val_batch_inputs, val_batch_input_lengths)\n",
    "        val_loss = loss_fcn(val_predict.squeeze(), val_batch_labels.float())\n",
    "        running_loss += val_loss.item()\n",
    "        batches += 1\n",
    "    val_acc = accuracy(model,val_iter)\n",
    "    acc_val.append(val_acc)\n",
    "    loss_val.append(running_loss/batches)\n",
    "    print(f\"Epoch: {e+1} Training Loss: {loss_train[-1]:.2f} Training Accuracy {train_acc:.2f}  Validation Loss: {loss_val[-1]:.2f} Validation Accuracy {val_acc:.2f}\")\n",
    "\n",
    "# Test accuracy and loss    \n",
    "for i, test_batch in enumerate(test_iter):\n",
    "    test_batch_inputs, test_batch_input_lengths = test_batch.text\n",
    "    test_batch_labels = test_batch.label\n",
    "    test_predict = model(test_batch_inputs, test_batch_input_lengths)\n",
    "    test_loss = loss_fcn(test_predict.squeeze(), test_batch_labels.float())\n",
    "    running_loss += test_loss.item()\n",
    "    batches += 1\n",
    "test_acc = accuracy(model,test_iter)\n",
    "test_loss = running_loss/batches\n",
    "print(f\"\\nTest Loss: {test_loss:.2f} Test Accuracy {test_acc:.2f}\")\n",
    "\n",
    "# Accuracy and loss plots\n",
    "plt.xlabel(\"Epochs\")\n",
    "plt.ylabel(\"Accuracy\")\n",
    "plt.plot(list(range(1,epochs+1)),acc_train,label=\"Training Accuracy\")\n",
    "plt.plot(list(range(1,epochs+1)),acc_val,label=\"Validation Accuracy\")\n",
    "plt.legend()\n",
    "plt.show()\n",
    "plt.xlabel(\"Epochs\")\n",
    "plt.ylabel(\"Loss\")\n",
    "plt.plot(list(range(1,epochs+1)),loss_train,label=\"Training Loss\")\n",
    "plt.plot(list(range(1,epochs+1)),loss_val,label=\"Validation Loss\")\n",
    "plt.legend()\n",
    "plt.show()"
   ]
  },
  {
   "cell_type": "code",
   "execution_count": 11,
   "metadata": {},
   "outputs": [],
   "source": [
    "# torch.save(model,'./model_baseline.pt')\n",
    "# torch.save(model,'./model_cnn.pt')\n",
    "# torch.save(model,'./model_rnn.pt')"
   ]
  },
  {
   "cell_type": "code",
   "execution_count": null,
   "metadata": {},
   "outputs": [],
   "source": [
    "def tokenizer(text):\n",
    "    spacy_en = spacy.load('en')\n",
    "    return [tok.text for tok in spacy_en(text)]\n",
    "\n",
    "def classify(output):\n",
    "    if output > 0.5:\n",
    "        return \"subjective\"\n",
    "    return \"objective\"\n",
    "\n",
    "baseline = torch.load(\"./model_baseline.pt\")\n",
    "cnn = torch.load(\"./model_cnn.pt\")\n",
    "rnn = torch.load(\"./model_rnn.pt\")\n",
    "while True:\n",
    "    sentence = input(\"Enter a sentence\\n\")\n",
    "    tokens = tokenizer(sentence)\n",
    "    token_ints = [vocab.stoi[tok] for tok in tokens]\n",
    "    token_tensor = torch.LongTensor(token_ints).view(-1, 1)\n",
    "    if token_tensor.shape[1]==1 and token_tensor.shape[0] < 4:\n",
    "        padding = torch.zeros((4,1), dtype=torch.long)\n",
    "        padding[:token_tensor.shape[0],:] = token_tensor\n",
    "        token_tensor = padding\n",
    "    lengths = torch.Tensor([len(token_ints)])\n",
    "    baseline_output = baseline(token_tensor,lengths).item()\n",
    "    baseline_label = classify(baseline_output)\n",
    "    cnn_output = cnn(token_tensor,lengths).item()\n",
    "    cnn_label = classify(cnn_output)\n",
    "    rnn_output = rnn(token_tensor,lengths).item()\n",
    "    rnn_label = classify(rnn_output)\n",
    "    print(f'\\nModel baseline: {baseline_label} ({baseline_output:.3f})')\n",
    "    print(f'Model rnn: {rnn_label} ({rnn_output:.3f})')\n",
    "    print(f'Model cnn: {cnn_label} ({cnn_output:.3f})\\n')"
   ]
  }
 ],
 "metadata": {
  "kernelspec": {
   "display_name": "Python 3",
   "language": "python",
   "name": "python3"
  },
  "language_info": {
   "codemirror_mode": {
    "name": "ipython",
    "version": 3
   },
   "file_extension": ".py",
   "mimetype": "text/x-python",
   "name": "python",
   "nbconvert_exporter": "python",
   "pygments_lexer": "ipython3",
   "version": "3.8.3"
  }
 },
 "nbformat": 4,
 "nbformat_minor": 4
}
