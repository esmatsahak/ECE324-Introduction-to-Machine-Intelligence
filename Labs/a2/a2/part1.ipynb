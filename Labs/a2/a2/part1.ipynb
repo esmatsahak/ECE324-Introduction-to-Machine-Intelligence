{
 "cells": [
  {
   "cell_type": "code",
   "execution_count": 1,
   "metadata": {},
   "outputs": [],
   "source": [
    "import numpy as np\n",
    "import matplotlib.pyplot as plt\n",
    "from matplotlib.pyplot import imshow\n",
    "import random\n",
    "from PIL import Image"
   ]
  },
  {
   "cell_type": "code",
   "execution_count": 2,
   "metadata": {},
   "outputs": [],
   "source": [
    "# Initialize hyperparameters \n",
    "seed = 10\n",
    "epochs = 200\n",
    "lr = 0.1 # learning rate\n",
    "act = 1 # act can only take values from 0-2 (0=linear, 1=ReLU, 2=sigmoid)"
   ]
  },
  {
   "cell_type": "code",
   "execution_count": 3,
   "metadata": {},
   "outputs": [],
   "source": [
    "# Set seed, select initial random values for parameters\n",
    "def initParam(x):\n",
    "    np.random.seed(x)\n",
    "    w = np.random.rand(9)\n",
    "    random.seed(x)\n",
    "    b = random.random()\n",
    "    return w,b"
   ]
  },
  {
   "cell_type": "code",
   "execution_count": 4,
   "metadata": {},
   "outputs": [],
   "source": [
    "def trainLoop(epochs, t_data, v_data, t_lbl, v_lbl, weight, bias, act, lr):\n",
    "    loss_t = np.empty(epochs)\n",
    "    loss_v = np.empty(epochs)\n",
    "    acc_t = np.empty(epochs)\n",
    "    acc_v = np.empty(epochs)\n",
    "    w = weight \n",
    "    b = bias\n",
    "    for i in range(0,epochs):\n",
    "        # Compute z\n",
    "        z_t = t_data.dot(w)+b\n",
    "        z_v = v_data.dot(w)+b\n",
    "        # Pass z through activation function\n",
    "        if act==0: # Linear\n",
    "            y_t = z_t \n",
    "            y_v = z_v\n",
    "        elif act==1: # ReLU\n",
    "            y_t = np.maximum(0,z_t)\n",
    "            y_v = np.maximum(0,z_v)\n",
    "        elif act==2: # Sigmoid\n",
    "            y_t = 1/(1+np.exp(-z_t))\n",
    "            y_v = 1/(1+np.exp(-z_v))\n",
    "        else: # Error checking (invalid act value)\n",
    "            print(\"Invalid value for hyperparameter act fool\")\n",
    "            return\n",
    "        diff = y_t-t_lbl\n",
    "        # Compute gradients of loss function wrt to parameters \n",
    "        if (act==0):\n",
    "            grad_w = 2*diff.reshape(200,1)*t_data\n",
    "            grad_b = 2*diff\n",
    "        elif (act==1):\n",
    "            copy_data = np.transpose(np.where(y_t==0,0,np.transpose(t_data)))\n",
    "            grad_w = 2*diff.reshape(200,1)*copy_data  \n",
    "            grad_b = 2*diff*np.where(y_t==0,0,1)\n",
    "        elif (act==2):\n",
    "            grad_w = 2*(diff*np.exp(-z_t)*(y_t**2)).reshape(200,1)*t_data\n",
    "            grad_b = 2*diff*np.exp(-z_t)*(y_t**2)\n",
    "        # Update parameters (gradient descent method)\n",
    "        w = w-lr*np.average(grad_w,axis=0)\n",
    "        b = b-lr*np.average(grad_b) \n",
    "        # Determine training and validation set labels based on training parameter values \n",
    "        plbl_t = (y_t>=0.5)\n",
    "        plbl_v = (y_v>=0.5)\n",
    "        # Compute average loss, record for plotting\n",
    "        loss_t[i] = np.average(diff**2)\n",
    "        loss_v[i] = np.average((y_v-v_lbl)**2)\n",
    "        # Compute accuracy, record for plotting\n",
    "        acc_t[i] = np.average(plbl_t==t_lbl)\n",
    "        acc_v[i] = np.average(plbl_v==v_lbl)\n",
    "    return loss_t, loss_v, acc_t, acc_v, w, b"
   ]
  },
  {
   "cell_type": "code",
   "execution_count": 5,
   "metadata": {},
   "outputs": [],
   "source": [
    "def dispKernel(kernel, ksize, isize):\n",
    "    # for normalizing\n",
    "    kmax = max(kernel)\n",
    "    kmin = min(kernel)\n",
    "    spread = kmax - kmin\n",
    "    # print(\"max,min\",kmax,kmin)\n",
    "    dsize = int(isize / ksize)\n",
    "    # print(\"dsize:\",dsize)\n",
    "    a = np.full((isize, isize), 0.0)\n",
    "    # loop through each element of kernel\n",
    "    for i in range(ksize):\n",
    "        for j in range(ksize):\n",
    "            # fill in the image for this kernel element\n",
    "            basei = i * dsize\n",
    "            basej = j * dsize\n",
    "            for k in range(dsize):\n",
    "                for l in range(dsize):\n",
    "                    a[basei + k][basej + l] = (kernel[(i * ksize) + j] - kmin) / spread\n",
    "    # print(a)\n",
    "    x = np.uint8(a * 255)\n",
    "    # print(x)\n",
    "    img = Image.fromarray(x, mode='P')\n",
    "    imshow(img, cmap='Greys_r')\n",
    "    plt.show() "
   ]
  },
  {
   "cell_type": "code",
   "execution_count": 6,
   "metadata": {
    "scrolled": true
   },
   "outputs": [
    {
     "data": {
      "image/png": "[encoded data removed]",
      "text/plain": [
       "<Figure size 432x288 with 1 Axes>"
      ]
     },
     "metadata": {
      "needs_background": "light"
     },
     "output_type": "display_data"
    },
    {
     "data": {
      "image/png": "[encoded data removed]",
      "text/plain": [
       "<Figure size 432x288 with 1 Axes>"
      ]
     },
     "metadata": {
      "needs_background": "light"
     },
     "output_type": "display_data"
    },
    {
     "data": {
      "image/png": "[encoded data removed]",
      "text/plain": [
       "<Figure size 432x288 with 1 Axes>"
      ]
     },
     "metadata": {
      "needs_background": "light"
     },
     "output_type": "display_data"
    }
   ],
   "source": [
    "# Extract training and validation data and labels \n",
    "t_data = np.loadtxt(\"traindata.csv\", delimiter=\",\")\n",
    "t_label = np.loadtxt(\"trainlabel.csv\", delimiter=\",\")\n",
    "v_data = np.loadtxt(\"validdata.csv\", delimiter=\",\")\n",
    "v_label = np.loadtxt(\"validlabel.csv\", delimiter=\",\")\n",
    "\n",
    "# Obtain initial random values for parameters\n",
    "param = initParam(seed)\n",
    "w = param[0]\n",
    "b = param[1]\n",
    "\n",
    "out = trainLoop(epochs,t_data,v_data,t_label,v_label,w,b,act,lr) # Run training loop\n",
    "dispKernel(out[4],3,9) # Display 3x3 visual of weights\n",
    "\n",
    "# Construct and show epochs vs. accuracy/loss plots for both training and validation sets\n",
    "t = np.arange(1,epochs+1,1)   \n",
    "plt.xlabel(\"Epochs\")\n",
    "plt.ylabel(\"Loss\")\n",
    "l1 = plt.plot(t,out[0],label=\"Training Data\")\n",
    "l2 = plt.plot(t,out[1],label=\"Validation Data\")\n",
    "plt.legend()\n",
    "plt.show()\n",
    "plt.xlabel(\"Epochs\")\n",
    "plt.ylabel(\"Accuracy\")\n",
    "plt.plot(t,out[2],label=\"Training Data\")\n",
    "plt.plot(t,out[3],label=\"Validation Data\")\n",
    "plt.legend()\n",
    "plt.show()"
   ]
  }
 ],
 "metadata": {
  "kernelspec": {
   "display_name": "Python 3",
   "language": "python",
   "name": "python3"
  },
  "language_info": {
   "codemirror_mode": {
    "name": "ipython",
    "version": 3
   },
   "file_extension": ".py",
   "mimetype": "text/x-python",
   "name": "python",
   "nbconvert_exporter": "python",
   "pygments_lexer": "ipython3",
   "version": "3.8.3"
  }
 },
 "nbformat": 4,
 "nbformat_minor": 4
}
