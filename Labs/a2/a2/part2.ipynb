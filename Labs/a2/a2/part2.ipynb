{
 "cells": [
  {
   "cell_type": "code",
   "execution_count": 1,
   "metadata": {},
   "outputs": [],
   "source": [
    "import torch\n",
    "import torch.nn as nn\n",
    "import numpy as np\n",
    "import matplotlib.pyplot as plt\n",
    "from matplotlib.pyplot import imshow\n",
    "from PIL import Image"
   ]
  },
  {
   "cell_type": "code",
   "execution_count": 2,
   "metadata": {},
   "outputs": [],
   "source": [
    "# Initialize hyperparameters\n",
    "seed = 10\n",
    "torch.manual_seed(seed)\n",
    "epochs = 200\n",
    "lr = 0.2 # Learning rate"
   ]
  },
  {
   "cell_type": "code",
   "execution_count": 3,
   "metadata": {},
   "outputs": [],
   "source": [
    "class SNC(nn.Module):\n",
    "    def __init__(self):\n",
    "        super(SNC,self).__init__()\n",
    "        self.fc1 = nn.Linear(9,1)\n",
    "    def forward(self,I):\n",
    "        x = self.fc1(I)\n",
    "        return x"
   ]
  },
  {
   "cell_type": "code",
   "execution_count": 4,
   "metadata": {},
   "outputs": [],
   "source": [
    "def accuracy(predict,label): # Equivalent accuracy function using PyTorch tensor methods \n",
    "    isNotX = torch.tensor([0.0])\n",
    "    isX = torch.tensor([1.0])\n",
    "    y = torch.where(predict<0.5,isNotX,isX)\n",
    "    return torch.eq(y.squeeze(),label.squeeze()).sum().item()/len(label)"
   ]
  },
  {
   "cell_type": "code",
   "execution_count": 5,
   "metadata": {},
   "outputs": [],
   "source": [
    "def dispKernel(kernel, ksize, isize):\n",
    "    # for normalizing\n",
    "    kmax = max(kernel)\n",
    "    kmin = min(kernel)\n",
    "    spread = kmax - kmin\n",
    "    # print(\"max,min\",kmax,kmin)\n",
    "    dsize = int(isize / ksize)\n",
    "    # print(\"dsize:\",dsize)\n",
    "    a = np.full((isize, isize), 0.0)\n",
    "    # loop through each element of kernel\n",
    "    for i in range(ksize):\n",
    "        for j in range(ksize):\n",
    "            # fill in the image for this kernel element\n",
    "            basei = i * dsize\n",
    "            basej = j * dsize\n",
    "            for k in range(dsize):\n",
    "                for l in range(dsize):\n",
    "                    a[basei + k][basej + l] = (kernel[(i * ksize) + j] - kmin) / spread\n",
    "    # print(a)\n",
    "    x = np.uint8(a * 255)\n",
    "    # print(x)\n",
    "    img = Image.fromarray(x, mode='P')\n",
    "    imshow(img, cmap='Greys_r')\n",
    "    plt.show() "
   ]
  },
  {
   "cell_type": "code",
   "execution_count": 6,
   "metadata": {},
   "outputs": [
    {
     "data": {
      "image/png": "[encoded data removed]",
      "text/plain": [
       "<Figure size 432x288 with 1 Axes>"
      ]
     },
     "metadata": {
      "needs_background": "light"
     },
     "output_type": "display_data"
    },
    {
     "data": {
      "image/png": "[encoded data removed]",
      "text/plain": [
       "<Figure size 432x288 with 1 Axes>"
      ]
     },
     "metadata": {
      "needs_background": "light"
     },
     "output_type": "display_data"
    },
    {
     "data": {
      "image/png": "[encoded data removed]",
      "text/plain": [
       "<Figure size 432x288 with 1 Axes>"
      ]
     },
     "metadata": {
      "needs_background": "light"
     },
     "output_type": "display_data"
    }
   ],
   "source": [
    "smallNN = SNC() # Instantiate SNC object\n",
    "\n",
    "# Extract data and labels into numpy arrays\n",
    "t_data = np.loadtxt(\"traindata.csv\", delimiter=\",\")\n",
    "t_label = np.loadtxt(\"trainlabel.csv\", delimiter=\",\")\n",
    "v_data = np.loadtxt(\"validdata.csv\", delimiter=\",\")\n",
    "v_label = np.loadtxt(\"validlabel.csv\", delimiter=\",\")\n",
    "\n",
    "# Convert numpy arrays to torch tensors\n",
    "T_data = torch.from_numpy(t_data)\n",
    "T_label = torch.from_numpy(t_label)\n",
    "V_data = torch.from_numpy(v_data)\n",
    "V_label = torch.from_numpy(v_label)\n",
    "\n",
    "loss_fcn = nn.MSELoss() # Set loss function to mean-square-error function\n",
    "optimizer = torch.optim.SGD(smallNN.parameters(),lr) # Declare optimizer pointed at parameters, will apply SGD to update parameters\n",
    "\n",
    "loss_t = []\n",
    "loss_v = []\n",
    "acc_t = []\n",
    "acc_v = []\n",
    "\n",
    "# Training loop\n",
    "for i in range(epochs):\n",
    "    optimizer.zero_grad() # Set gradients to zero\n",
    "    # Training set\n",
    "    predict = smallNN(T_data.float()) # Compute z\n",
    "    ploss_t = loss_fcn(input=predict.squeeze(), target=T_label.float()) # Compute loss\n",
    "    ploss_t.backward() # Compute gradient of loss wrt to parameters\n",
    "    optimizer.step() # Apply SGD to update parameters\n",
    "    pacc_t = accuracy(predict,T_label) # Compute accuracy\n",
    "    # Validation set, apply the same methods\n",
    "    predict = smallNN(V_data.float())\n",
    "    ploss_v = loss_fcn(input=predict.squeeze(), target=V_label.float())\n",
    "    pacc_v = accuracy(predict,V_label)    \n",
    "    # Record loss and accuracy values for plotting purposes\n",
    "    loss_t.append(ploss_t.item())\n",
    "    loss_v.append(ploss_v.item())\n",
    "    acc_t.append(pacc_t)\n",
    "    acc_v.append(pacc_v)\n",
    "    \n",
    "dispKernel(smallNN.fc1.weight.squeeze().detach().numpy(),3,9) # Display 3x3 visual of weights\n",
    "\n",
    "# Construct and show plots\n",
    "plt.xlabel(\"Epochs\")\n",
    "plt.ylabel(\"Accuracy\")\n",
    "plt.plot(list(range(1,epochs+1)),acc_t,label=\"Training Data\")\n",
    "plt.plot(list(range(1,epochs+1)),acc_v,label=\"Validation Data\")\n",
    "plt.legend()\n",
    "plt.show()\n",
    "plt.xlabel(\"Epochs\")\n",
    "plt.ylabel(\"Loss\")\n",
    "plt.plot(list(range(1,epochs+1)),loss_t,label=\"Training Data\")\n",
    "plt.plot(list(range(1,epochs+1)),loss_v,label=\"Validation Data\")\n",
    "plt.legend()\n",
    "plt.show()"
   ]
  }
 ],
 "metadata": {
  "kernelspec": {
   "display_name": "Python 3",
   "language": "python",
   "name": "python3"
  },
  "language_info": {
   "codemirror_mode": {
    "name": "ipython",
    "version": 3
   },
   "file_extension": ".py",
   "mimetype": "text/x-python",
   "name": "python",
   "nbconvert_exporter": "python",
   "pygments_lexer": "ipython3",
   "version": "3.8.3"
  }
 },
 "nbformat": 4,
 "nbformat_minor": 4
}
